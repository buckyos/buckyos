{
 "cells": [
  {
   "cell_type": "markdown",
   "metadata": {},
   "source": [
    "# Scheduler设计理念介绍\n",
    "\n",
    "\n",
    "## 1. 什么是Scheduler\n",
    "\n",
    "BuckyOS中的Scheduler是一个目标非常纯粹的组件：在合适的时机运行，基于当前系统状态和目标状态尝试更新node_config. 随后node_daemon会根据新版本的node_config来执行具体的动作，最后让系统达到目标状态。\n",
    "\n",
    "系统的任何改动，都不会直接修改node_config,而是通过调度器实现。比如我们在系统配置里，把fileserver从node1迁移到node2，这个操作对system_config的修改是立刻生效的，调度器执行后会产生真正的调度动作，包括node1_config和node2_config的修改。并创建一个调度器Task来完成数据的迁移。\n",
    "\n",
    "系统在发生改变后，如果没有一次成功的Sheduler执行，那么系统的实际运行配置不会发生任何的变化。\n",
    "\n",
    "- 调度器在小规模的集群里，是中心化和幂等的：\n",
    "1. 基于相同的系统当前状态和系统目标状态，调度器会生成相同的调度动作。这意味着调度器在运行中不能依赖其它的外部状态。\n",
    "2. 任何时候只有一个调度器在运行，调度器可以运行在任意节点上\n",
    "3. 当有两个调度器运行时，后开始运行的调度器结果优先（因为他可能是基于更新的系统状态得到的结果）\n",
    "\n",
    "- 调度器的基本工作流程：\n",
    "\n",
    "1. 理解系统的当前状态和目标状态（这都保存在system_config组件中）\n",
    "2. 创建一个调度动作，执行完成后可以达到目标状态\n",
    "3. 等待调度动作的完成\n",
    "\n",
    "\n",
    "## 无状态应用的调度\n",
    "\n",
    "1. 找到符合自己硬件资源需求的node\n",
    "2. 根据自己使用资源的预期，在符合资源的node上选择2个余量最大的部署，并根据node的核心硬件能力设定权重\n",
    "\n",
    "\n",
    "## 有状态应用(服务）的调度\n",
    "\n",
    "1. 新服务安装会锁定存储资源到特定磁盘\n",
    "2. 服务迁移的前提条件是存储资源迁移完成\n",
    "3. 处理故障，产生故障运维任务\n",
    "\n",
    "\n",
    "### FrameService的自定义调度逻辑（产生迁移任务）\n",
    "\n",
    "\n",
    "\n",
    "\n",
    "\n",
    "## 自动配置Gateway\n",
    "\n",
    "\n"
   ]
  },
  {
   "cell_type": "code",
   "execution_count": null,
   "metadata": {},
   "outputs": [],
   "source": [
    "\n",
    "def do_scheduler(current,target):\n",
    "    for app in target.apps:\n",
    "        if app not in current.apps:\n",
    "            # build app install task\n",
    "            # 遍历node, 剔除不符合资源要求和状态要求的node \n",
    "            # 计算node在安装app后的预期资源使用情况，选择剩余资源最多的2个node (这个是一个计算评分的过程)\n",
    "            # 根据app的启动类型进行进一步配置\n",
    "        else:\n",
    "            # 查看配置是否相同\n",
    "\n",
    "    # save scheduler task\n",
    "    \n",
    "    \n",
    "    \n",
    "\n",
    "        \n",
    "\n",
    "\n"
   ]
  }
 ],
 "metadata": {
  "language_info": {
   "name": "python"
  }
 },
 "nbformat": 4,
 "nbformat_minor": 2
}
